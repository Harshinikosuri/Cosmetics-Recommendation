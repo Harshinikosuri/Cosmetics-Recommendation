{
 "cells": [
  {
   "cell_type": "code",
   "execution_count": 1,
   "id": "0adf3b4b",
   "metadata": {},
   "outputs": [],
   "source": [
    "import pandas as pd\n"
   ]
  },
  {
   "cell_type": "code",
   "execution_count": 2,
   "id": "c463b759",
   "metadata": {},
   "outputs": [],
   "source": [
    "data=pd.read_csv(\"cosmetic.csv\");"
   ]
  },
  {
   "cell_type": "code",
   "execution_count": 4,
   "id": "e8fddad5",
   "metadata": {},
   "outputs": [
    {
     "name": "stdout",
     "output_type": "stream",
     "text": [
      "                              Label  \\\n",
      "0     moisturizing-cream-oils-mists   \n",
      "1     moisturizing-cream-oils-mists   \n",
      "2     moisturizing-cream-oils-mists   \n",
      "3     moisturizing-cream-oils-mists   \n",
      "4     moisturizing-cream-oils-mists   \n",
      "...                             ...   \n",
      "2244       sunscreen-sun-protection   \n",
      "2245       sunscreen-sun-protection   \n",
      "2246       sunscreen-sun-protection   \n",
      "2247       sunscreen-sun-protection   \n",
      "2248       sunscreen-sun-protection   \n",
      "\n",
      "                                                   Name  \\\n",
      "0     The Dewy Skin Cream Plumping & Hydrating Moist...   \n",
      "1     Revealer Skin-Improving Foundation SPF25 with ...   \n",
      "2                Plum Plump Hyaluronic Acid Moisturizer   \n",
      "3     The Water Cream Oil-Free Pore Minimizing Moist...   \n",
      "4              Barrier+ Triple Lipid-Peptide Face Cream   \n",
      "...                                                 ...   \n",
      "2244         Broad Spectrum SPF 50 Sunscreen Face Cream   \n",
      "2245       Flow-Thru Radiant Transclucent Powder SPF 20   \n",
      "2246  Repairwear Laser Focus Line Smoothing Cream Br...   \n",
      "2247        Facial Fuel Sunscreen Broad Spectrum SPF 20   \n",
      "2248  Future Solution LX Universal Defense Broad Spe...   \n",
      "\n",
      "                                                    URL               brand  \\\n",
      "0     https://www.sephora.com/product/the-dewy-skin-...              Tatcha   \n",
      "1     https://www.sephora.com/product/kosas-revealer...               Kosas   \n",
      "2     https://www.sephora.com/product/glow-recipe-pl...         Glow Recipe   \n",
      "3     https://www.sephora.com/product/the-water-crea...              Tatcha   \n",
      "4     https://www.sephora.com/product/barrier-lipid-...             Skinfix   \n",
      "...                                                 ...                 ...   \n",
      "2244  https://www.sephora.com/product/broad-spectrum...            CLINIQUE   \n",
      "2245  https://www.sephora.com/product/flow-thru-radi...                ILIA   \n",
      "2246  https://www.sephora.com/product/repairwear-las...            CLINIQUE   \n",
      "2247  https://www.sephora.com/product/facial-fuel-da...  Kiehl's Since 1851   \n",
      "2248  https://www.sephora.com/product/shiseido-futur...            Shiseido   \n",
      "\n",
      "         price       rank                                      skin_type  \\\n",
      "0      $69.00     4 stars                      Skin Type: Normal and Dry   \n",
      "1      $42.00     4 stars                                            NaN   \n",
      "2      $39.00   4.5 stars  Skin Type: Normal, Dry, Combination, and Oily   \n",
      "3      $69.00     4 stars                                            NaN   \n",
      "4      $52.00   4.5 stars               Skin Type: Normal, Dry, and Oily   \n",
      "...        ...        ...                                            ...   \n",
      "2244   $29.00     4 stars                                            NaN   \n",
      "2245   $34.00     3 stars                                            NaN   \n",
      "2246   $53.00   3.5 stars                                            NaN   \n",
      "2247   $35.00   3.5 stars          Skin Type: Normal, Dry, and Sensitive   \n",
      "2248  $100.00         NaN  Skin Type: Normal, Dry, Combination, and Oily   \n",
      "\n",
      "                                            ingredients  \n",
      "0     Aqua/Water/Eau, Saccharomyces/Camellia Sinensi...  \n",
      "1     Zinc Oxide (7.5%), Water, Ethylhexyl Olivate, ...  \n",
      "2     Water/Aqua/Eau, Propanediol, Glycerin, C13-15 ...  \n",
      "3     Water, Saccharomyces/Camellia Sinensis Leaf/Cl...  \n",
      "4     Water/Eau/Aqua, Caprylic/Capric Triglyceride, ...  \n",
      "...                                                 ...  \n",
      "2244  Oxybenzone 5.00%, Octisalate 5.00%, Homosalate...  \n",
      "2245                                                NaN  \n",
      "2246  Octinoxate 7.5%, Titanium Dioxide 1.5%Water, C...  \n",
      "2247  Water, Glycerin, Dimethicone, Alcohol Denat., ...  \n",
      "2248  Octisalate 5%, Octocrylene 7%, and Zinc Oxide ...  \n",
      "\n",
      "[2249 rows x 8 columns]\n"
     ]
    }
   ],
   "source": [
    "data.head(5);\n",
    "print(data)"
   ]
  },
  {
   "cell_type": "code",
   "execution_count": 6,
   "id": "c000a6d3",
   "metadata": {},
   "outputs": [
    {
     "data": {
      "text/plain": [
       "Index(['Label', 'Name', 'URL', 'brand', 'price', 'rank', 'skin_type',\n",
       "       'ingredients'],\n",
       "      dtype='object')"
      ]
     },
     "execution_count": 6,
     "metadata": {},
     "output_type": "execute_result"
    }
   ],
   "source": [
    "data.columns"
   ]
  },
  {
   "cell_type": "code",
   "execution_count": 7,
   "id": "433f3250",
   "metadata": {},
   "outputs": [
    {
     "data": {
      "text/html": [
       "<div>\n",
       "<style scoped>\n",
       "    .dataframe tbody tr th:only-of-type {\n",
       "        vertical-align: middle;\n",
       "    }\n",
       "\n",
       "    .dataframe tbody tr th {\n",
       "        vertical-align: top;\n",
       "    }\n",
       "\n",
       "    .dataframe thead th {\n",
       "        text-align: right;\n",
       "    }\n",
       "</style>\n",
       "<table border=\"1\" class=\"dataframe\">\n",
       "  <thead>\n",
       "    <tr style=\"text-align: right;\">\n",
       "      <th></th>\n",
       "      <th>Label</th>\n",
       "      <th>Name</th>\n",
       "      <th>URL</th>\n",
       "      <th>brand</th>\n",
       "      <th>price</th>\n",
       "      <th>rank</th>\n",
       "      <th>skin_type</th>\n",
       "      <th>ingredients</th>\n",
       "    </tr>\n",
       "  </thead>\n",
       "  <tbody>\n",
       "    <tr>\n",
       "      <th>0</th>\n",
       "      <td>False</td>\n",
       "      <td>False</td>\n",
       "      <td>False</td>\n",
       "      <td>False</td>\n",
       "      <td>False</td>\n",
       "      <td>False</td>\n",
       "      <td>False</td>\n",
       "      <td>False</td>\n",
       "    </tr>\n",
       "    <tr>\n",
       "      <th>1</th>\n",
       "      <td>False</td>\n",
       "      <td>False</td>\n",
       "      <td>False</td>\n",
       "      <td>False</td>\n",
       "      <td>False</td>\n",
       "      <td>False</td>\n",
       "      <td>True</td>\n",
       "      <td>False</td>\n",
       "    </tr>\n",
       "    <tr>\n",
       "      <th>2</th>\n",
       "      <td>False</td>\n",
       "      <td>False</td>\n",
       "      <td>False</td>\n",
       "      <td>False</td>\n",
       "      <td>False</td>\n",
       "      <td>False</td>\n",
       "      <td>False</td>\n",
       "      <td>False</td>\n",
       "    </tr>\n",
       "    <tr>\n",
       "      <th>3</th>\n",
       "      <td>False</td>\n",
       "      <td>False</td>\n",
       "      <td>False</td>\n",
       "      <td>False</td>\n",
       "      <td>False</td>\n",
       "      <td>False</td>\n",
       "      <td>True</td>\n",
       "      <td>False</td>\n",
       "    </tr>\n",
       "    <tr>\n",
       "      <th>4</th>\n",
       "      <td>False</td>\n",
       "      <td>False</td>\n",
       "      <td>False</td>\n",
       "      <td>False</td>\n",
       "      <td>False</td>\n",
       "      <td>False</td>\n",
       "      <td>False</td>\n",
       "      <td>False</td>\n",
       "    </tr>\n",
       "    <tr>\n",
       "      <th>...</th>\n",
       "      <td>...</td>\n",
       "      <td>...</td>\n",
       "      <td>...</td>\n",
       "      <td>...</td>\n",
       "      <td>...</td>\n",
       "      <td>...</td>\n",
       "      <td>...</td>\n",
       "      <td>...</td>\n",
       "    </tr>\n",
       "    <tr>\n",
       "      <th>2244</th>\n",
       "      <td>False</td>\n",
       "      <td>False</td>\n",
       "      <td>False</td>\n",
       "      <td>False</td>\n",
       "      <td>False</td>\n",
       "      <td>False</td>\n",
       "      <td>True</td>\n",
       "      <td>False</td>\n",
       "    </tr>\n",
       "    <tr>\n",
       "      <th>2245</th>\n",
       "      <td>False</td>\n",
       "      <td>False</td>\n",
       "      <td>False</td>\n",
       "      <td>False</td>\n",
       "      <td>False</td>\n",
       "      <td>False</td>\n",
       "      <td>True</td>\n",
       "      <td>True</td>\n",
       "    </tr>\n",
       "    <tr>\n",
       "      <th>2246</th>\n",
       "      <td>False</td>\n",
       "      <td>False</td>\n",
       "      <td>False</td>\n",
       "      <td>False</td>\n",
       "      <td>False</td>\n",
       "      <td>False</td>\n",
       "      <td>True</td>\n",
       "      <td>False</td>\n",
       "    </tr>\n",
       "    <tr>\n",
       "      <th>2247</th>\n",
       "      <td>False</td>\n",
       "      <td>False</td>\n",
       "      <td>False</td>\n",
       "      <td>False</td>\n",
       "      <td>False</td>\n",
       "      <td>False</td>\n",
       "      <td>False</td>\n",
       "      <td>False</td>\n",
       "    </tr>\n",
       "    <tr>\n",
       "      <th>2248</th>\n",
       "      <td>False</td>\n",
       "      <td>False</td>\n",
       "      <td>False</td>\n",
       "      <td>False</td>\n",
       "      <td>False</td>\n",
       "      <td>True</td>\n",
       "      <td>False</td>\n",
       "      <td>False</td>\n",
       "    </tr>\n",
       "  </tbody>\n",
       "</table>\n",
       "<p>2249 rows × 8 columns</p>\n",
       "</div>"
      ],
      "text/plain": [
       "      Label   Name    URL  brand  price   rank  skin_type  ingredients\n",
       "0     False  False  False  False  False  False      False        False\n",
       "1     False  False  False  False  False  False       True        False\n",
       "2     False  False  False  False  False  False      False        False\n",
       "3     False  False  False  False  False  False       True        False\n",
       "4     False  False  False  False  False  False      False        False\n",
       "...     ...    ...    ...    ...    ...    ...        ...          ...\n",
       "2244  False  False  False  False  False  False       True        False\n",
       "2245  False  False  False  False  False  False       True         True\n",
       "2246  False  False  False  False  False  False       True        False\n",
       "2247  False  False  False  False  False  False      False        False\n",
       "2248  False  False  False  False  False   True      False        False\n",
       "\n",
       "[2249 rows x 8 columns]"
      ]
     },
     "execution_count": 7,
     "metadata": {},
     "output_type": "execute_result"
    }
   ],
   "source": [
    "data.isnull()"
   ]
  },
  {
   "cell_type": "code",
   "execution_count": 10,
   "id": "53f1b2f0",
   "metadata": {},
   "outputs": [
    {
     "data": {
      "text/plain": [
       "Label            0\n",
       "Name             0\n",
       "URL              0\n",
       "brand            5\n",
       "price            3\n",
       "rank            44\n",
       "skin_type      520\n",
       "ingredients    242\n",
       "dtype: int64"
      ]
     },
     "execution_count": 10,
     "metadata": {},
     "output_type": "execute_result"
    }
   ],
   "source": [
    "data.isnull().sum()"
   ]
  },
  {
   "cell_type": "code",
   "execution_count": 13,
   "id": "dfa0d209",
   "metadata": {},
   "outputs": [
    {
     "data": {
      "text/plain": [
       "moisturizing-cream-oils-mists          703\n",
       "facial-treatments                      541\n",
       "cleanser                               415\n",
       "face-mask                              207\n",
       "eye-treatment-dark-circle-treatment    195\n",
       "sunscreen-sun-protection               188\n",
       "Name: Label, dtype: int64"
      ]
     },
     "execution_count": 13,
     "metadata": {},
     "output_type": "execute_result"
    }
   ],
   "source": [
    "data.Label.value_counts()"
   ]
  },
  {
   "cell_type": "code",
   "execution_count": 15,
   "id": "0cedda9e",
   "metadata": {},
   "outputs": [],
   "source": []
  },
  {
   "cell_type": "code",
   "execution_count": 16,
   "id": "ff079dd5",
   "metadata": {},
   "outputs": [
    {
     "ename": "KeyError",
     "evalue": "'Dry'",
     "output_type": "error",
     "traceback": [
      "\u001b[0;31m---------------------------------------------------------------------------\u001b[0m",
      "\u001b[0;31mKeyError\u001b[0m                                  Traceback (most recent call last)",
      "\u001b[0;32m~/opt/anaconda3/lib/python3.9/site-packages/pandas/core/indexes/base.py\u001b[0m in \u001b[0;36mget_loc\u001b[0;34m(self, key, method, tolerance)\u001b[0m\n\u001b[1;32m   3360\u001b[0m             \u001b[0;32mtry\u001b[0m\u001b[0;34m:\u001b[0m\u001b[0;34m\u001b[0m\u001b[0;34m\u001b[0m\u001b[0m\n\u001b[0;32m-> 3361\u001b[0;31m                 \u001b[0;32mreturn\u001b[0m \u001b[0mself\u001b[0m\u001b[0;34m.\u001b[0m\u001b[0m_engine\u001b[0m\u001b[0;34m.\u001b[0m\u001b[0mget_loc\u001b[0m\u001b[0;34m(\u001b[0m\u001b[0mcasted_key\u001b[0m\u001b[0;34m)\u001b[0m\u001b[0;34m\u001b[0m\u001b[0;34m\u001b[0m\u001b[0m\n\u001b[0m\u001b[1;32m   3362\u001b[0m             \u001b[0;32mexcept\u001b[0m \u001b[0mKeyError\u001b[0m \u001b[0;32mas\u001b[0m \u001b[0merr\u001b[0m\u001b[0;34m:\u001b[0m\u001b[0;34m\u001b[0m\u001b[0;34m\u001b[0m\u001b[0m\n",
      "\u001b[0;32m~/opt/anaconda3/lib/python3.9/site-packages/pandas/_libs/index.pyx\u001b[0m in \u001b[0;36mpandas._libs.index.IndexEngine.get_loc\u001b[0;34m()\u001b[0m\n",
      "\u001b[0;32m~/opt/anaconda3/lib/python3.9/site-packages/pandas/_libs/index.pyx\u001b[0m in \u001b[0;36mpandas._libs.index.IndexEngine.get_loc\u001b[0;34m()\u001b[0m\n",
      "\u001b[0;32mpandas/_libs/hashtable_class_helper.pxi\u001b[0m in \u001b[0;36mpandas._libs.hashtable.PyObjectHashTable.get_item\u001b[0;34m()\u001b[0m\n",
      "\u001b[0;32mpandas/_libs/hashtable_class_helper.pxi\u001b[0m in \u001b[0;36mpandas._libs.hashtable.PyObjectHashTable.get_item\u001b[0;34m()\u001b[0m\n",
      "\u001b[0;31mKeyError\u001b[0m: 'Dry'",
      "\nThe above exception was the direct cause of the following exception:\n",
      "\u001b[0;31mKeyError\u001b[0m                                  Traceback (most recent call last)",
      "\u001b[0;32m/var/folders/bw/bzn516ss4zgbt1v843gn7xkm0000gn/T/ipykernel_11243/2556297148.py\u001b[0m in \u001b[0;36m<module>\u001b[0;34m\u001b[0m\n\u001b[1;32m      3\u001b[0m \u001b[0;34m\u001b[0m\u001b[0m\n\u001b[1;32m      4\u001b[0m \u001b[0;31m# Filter for dry skin as well\u001b[0m\u001b[0;34m\u001b[0m\u001b[0;34m\u001b[0m\u001b[0m\n\u001b[0;32m----> 5\u001b[0;31m \u001b[0mmoisturizers_dry\u001b[0m \u001b[0;34m=\u001b[0m \u001b[0mmoisturizers\u001b[0m\u001b[0;34m[\u001b[0m\u001b[0mmoisturizers\u001b[0m\u001b[0;34m[\u001b[0m\u001b[0;34m\"Dry\"\u001b[0m\u001b[0;34m]\u001b[0m\u001b[0;34m==\u001b[0m\u001b[0;36m1\u001b[0m\u001b[0;34m]\u001b[0m\u001b[0;34m\u001b[0m\u001b[0;34m\u001b[0m\u001b[0m\n\u001b[0m\u001b[1;32m      6\u001b[0m \u001b[0;34m\u001b[0m\u001b[0m\n\u001b[1;32m      7\u001b[0m \u001b[0;31m# Reset index\u001b[0m\u001b[0;34m\u001b[0m\u001b[0;34m\u001b[0m\u001b[0m\n",
      "\u001b[0;32m~/opt/anaconda3/lib/python3.9/site-packages/pandas/core/frame.py\u001b[0m in \u001b[0;36m__getitem__\u001b[0;34m(self, key)\u001b[0m\n\u001b[1;32m   3456\u001b[0m             \u001b[0;32mif\u001b[0m \u001b[0mself\u001b[0m\u001b[0;34m.\u001b[0m\u001b[0mcolumns\u001b[0m\u001b[0;34m.\u001b[0m\u001b[0mnlevels\u001b[0m \u001b[0;34m>\u001b[0m \u001b[0;36m1\u001b[0m\u001b[0;34m:\u001b[0m\u001b[0;34m\u001b[0m\u001b[0;34m\u001b[0m\u001b[0m\n\u001b[1;32m   3457\u001b[0m                 \u001b[0;32mreturn\u001b[0m \u001b[0mself\u001b[0m\u001b[0;34m.\u001b[0m\u001b[0m_getitem_multilevel\u001b[0m\u001b[0;34m(\u001b[0m\u001b[0mkey\u001b[0m\u001b[0;34m)\u001b[0m\u001b[0;34m\u001b[0m\u001b[0;34m\u001b[0m\u001b[0m\n\u001b[0;32m-> 3458\u001b[0;31m             \u001b[0mindexer\u001b[0m \u001b[0;34m=\u001b[0m \u001b[0mself\u001b[0m\u001b[0;34m.\u001b[0m\u001b[0mcolumns\u001b[0m\u001b[0;34m.\u001b[0m\u001b[0mget_loc\u001b[0m\u001b[0;34m(\u001b[0m\u001b[0mkey\u001b[0m\u001b[0;34m)\u001b[0m\u001b[0;34m\u001b[0m\u001b[0;34m\u001b[0m\u001b[0m\n\u001b[0m\u001b[1;32m   3459\u001b[0m             \u001b[0;32mif\u001b[0m \u001b[0mis_integer\u001b[0m\u001b[0;34m(\u001b[0m\u001b[0mindexer\u001b[0m\u001b[0;34m)\u001b[0m\u001b[0;34m:\u001b[0m\u001b[0;34m\u001b[0m\u001b[0;34m\u001b[0m\u001b[0m\n\u001b[1;32m   3460\u001b[0m                 \u001b[0mindexer\u001b[0m \u001b[0;34m=\u001b[0m \u001b[0;34m[\u001b[0m\u001b[0mindexer\u001b[0m\u001b[0;34m]\u001b[0m\u001b[0;34m\u001b[0m\u001b[0;34m\u001b[0m\u001b[0m\n",
      "\u001b[0;32m~/opt/anaconda3/lib/python3.9/site-packages/pandas/core/indexes/base.py\u001b[0m in \u001b[0;36mget_loc\u001b[0;34m(self, key, method, tolerance)\u001b[0m\n\u001b[1;32m   3361\u001b[0m                 \u001b[0;32mreturn\u001b[0m \u001b[0mself\u001b[0m\u001b[0;34m.\u001b[0m\u001b[0m_engine\u001b[0m\u001b[0;34m.\u001b[0m\u001b[0mget_loc\u001b[0m\u001b[0;34m(\u001b[0m\u001b[0mcasted_key\u001b[0m\u001b[0;34m)\u001b[0m\u001b[0;34m\u001b[0m\u001b[0;34m\u001b[0m\u001b[0m\n\u001b[1;32m   3362\u001b[0m             \u001b[0;32mexcept\u001b[0m \u001b[0mKeyError\u001b[0m \u001b[0;32mas\u001b[0m \u001b[0merr\u001b[0m\u001b[0;34m:\u001b[0m\u001b[0;34m\u001b[0m\u001b[0;34m\u001b[0m\u001b[0m\n\u001b[0;32m-> 3363\u001b[0;31m                 \u001b[0;32mraise\u001b[0m \u001b[0mKeyError\u001b[0m\u001b[0;34m(\u001b[0m\u001b[0mkey\u001b[0m\u001b[0;34m)\u001b[0m \u001b[0;32mfrom\u001b[0m \u001b[0merr\u001b[0m\u001b[0;34m\u001b[0m\u001b[0;34m\u001b[0m\u001b[0m\n\u001b[0m\u001b[1;32m   3364\u001b[0m \u001b[0;34m\u001b[0m\u001b[0m\n\u001b[1;32m   3365\u001b[0m         \u001b[0;32mif\u001b[0m \u001b[0mis_scalar\u001b[0m\u001b[0;34m(\u001b[0m\u001b[0mkey\u001b[0m\u001b[0;34m)\u001b[0m \u001b[0;32mand\u001b[0m \u001b[0misna\u001b[0m\u001b[0;34m(\u001b[0m\u001b[0mkey\u001b[0m\u001b[0;34m)\u001b[0m \u001b[0;32mand\u001b[0m \u001b[0;32mnot\u001b[0m \u001b[0mself\u001b[0m\u001b[0;34m.\u001b[0m\u001b[0mhasnans\u001b[0m\u001b[0;34m:\u001b[0m\u001b[0;34m\u001b[0m\u001b[0;34m\u001b[0m\u001b[0m\n",
      "\u001b[0;31mKeyError\u001b[0m: 'Dry'"
     ]
    }
   ],
   "source": [
    "# Filter for moisturizers\n",
    "moisturizers = data[data[\"Label\"]==\"Moisturizer\"]\n",
    "\n",
    "# Filter for dry skin as well\n",
    "moisturizers_dry = moisturizers[moisturizers[\"Dry\"]==1]\n",
    "\n",
    "# Reset index\n",
    "moisturizers_dry =moisturizers_dry.reset_index(drop=True)\n",
    "moisturizers"
   ]
  },
  {
   "cell_type": "code",
   "execution_count": null,
   "id": "4b766bd0",
   "metadata": {},
   "outputs": [],
   "source": []
  }
 ],
 "metadata": {
  "kernelspec": {
   "display_name": "Python 3 (ipykernel)",
   "language": "python",
   "name": "python3"
  },
  "language_info": {
   "codemirror_mode": {
    "name": "ipython",
    "version": 3
   },
   "file_extension": ".py",
   "mimetype": "text/x-python",
   "name": "python",
   "nbconvert_exporter": "python",
   "pygments_lexer": "ipython3",
   "version": "3.9.7"
  }
 },
 "nbformat": 4,
 "nbformat_minor": 5
}
